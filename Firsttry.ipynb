{
 "cells": [
  {
   "cell_type": "code",
   "execution_count": 123,
   "id": "6619539d-491d-40fd-9671-304e8535bfa7",
   "metadata": {},
   "outputs": [],
   "source": [
    "import pandas as pd\n",
    "import numpy as np\n",
    "import matplotlib.pyplot as plt\n",
    "import exoplanet as xo\n",
    "import pymc as pm\n",
    "from tpgaia import *\n"
   ]
  },
  {
   "cell_type": "code",
   "execution_count": 161,
   "id": "9be18c9e-7c27-474b-8f21-056ea3a8ae8e",
   "metadata": {},
   "outputs": [
    {
     "data": {
      "text/html": [
       "<div>\n",
       "<style scoped>\n",
       "    .dataframe tbody tr th:only-of-type {\n",
       "        vertical-align: middle;\n",
       "    }\n",
       "\n",
       "    .dataframe tbody tr th {\n",
       "        vertical-align: top;\n",
       "    }\n",
       "\n",
       "    .dataframe thead th {\n",
       "        text-align: right;\n",
       "    }\n",
       "</style>\n",
       "<table border=\"1\" class=\"dataframe\">\n",
       "  <thead>\n",
       "    <tr style=\"text-align: right;\">\n",
       "      <th></th>\n",
       "      <th>designation</th>\n",
       "      <th>source_id</th>\n",
       "      <th>ra</th>\n",
       "      <th>dec</th>\n",
       "      <th>parallax</th>\n",
       "      <th>pmra</th>\n",
       "      <th>pmdec</th>\n",
       "      <th>ruwe</th>\n",
       "      <th>phot_g_mean_mag</th>\n",
       "      <th>bp_rp</th>\n",
       "      <th>...</th>\n",
       "      <th>has_mcmc_gspphot</th>\n",
       "      <th>has_mcmc_msc</th>\n",
       "      <th>teff_gspphot</th>\n",
       "      <th>logg_gspphot</th>\n",
       "      <th>mh_gspphot</th>\n",
       "      <th>distance_gspphot</th>\n",
       "      <th>azero_gspphot</th>\n",
       "      <th>ag_gspphot</th>\n",
       "      <th>ebpminrp_gspphot</th>\n",
       "      <th>Unnamed: 27</th>\n",
       "    </tr>\n",
       "  </thead>\n",
       "  <tbody>\n",
       "    <tr>\n",
       "      <th>0</th>\n",
       "      <td>Gaia DR3</td>\n",
       "      <td>6.055850e+18</td>\n",
       "      <td>6.055850e+18</td>\n",
       "      <td>197.317113</td>\n",
       "      <td>-60.308437</td>\n",
       "      <td>10.520069</td>\n",
       "      <td>-39.76902</td>\n",
       "      <td>-19.961376</td>\n",
       "      <td>0.943832</td>\n",
       "      <td>8.106044</td>\n",
       "      <td>...</td>\n",
       "      <td>False</td>\n",
       "      <td>True</td>\n",
       "      <td>True</td>\n",
       "      <td>6512.7812</td>\n",
       "      <td>4.0885</td>\n",
       "      <td>-0.5593</td>\n",
       "      <td>93.6269</td>\n",
       "      <td>0.0048</td>\n",
       "      <td>0.0042</td>\n",
       "      <td>0.0023</td>\n",
       "    </tr>\n",
       "  </tbody>\n",
       "</table>\n",
       "<p>1 rows × 28 columns</p>\n",
       "</div>"
      ],
      "text/plain": [
       "  designation     source_id            ra         dec   parallax       pmra  \\\n",
       "0    Gaia DR3  6.055850e+18  6.055850e+18  197.317113 -60.308437  10.520069   \n",
       "\n",
       "      pmdec       ruwe  phot_g_mean_mag     bp_rp  ...  has_mcmc_gspphot  \\\n",
       "0 -39.76902 -19.961376         0.943832  8.106044  ...             False   \n",
       "\n",
       "   has_mcmc_msc teff_gspphot  logg_gspphot  mh_gspphot  distance_gspphot  \\\n",
       "0          True         True     6512.7812      4.0885           -0.5593   \n",
       "\n",
       "   azero_gspphot  ag_gspphot  ebpminrp_gspphot  Unnamed: 27  \n",
       "0        93.6269      0.0048            0.0042       0.0023  \n",
       "\n",
       "[1 rows x 28 columns]"
      ]
     },
     "execution_count": 161,
     "metadata": {},
     "output_type": "execute_result"
    }
   ],
   "source": [
    "filepath=\"HDdata.csv\"\n",
    "data=pd.read_csv(filepath, delimiter=\";\")\n",
    "data"
   ]
  },
  {
   "cell_type": "code",
   "execution_count": 241,
   "id": "29f6094d-487a-4e65-a3b8-20d22ae5ce53",
   "metadata": {},
   "outputs": [
    {
     "data": {
      "text/html": [
       "<div>\n",
       "<style scoped>\n",
       "    .dataframe tbody tr th:only-of-type {\n",
       "        vertical-align: middle;\n",
       "    }\n",
       "\n",
       "    .dataframe tbody tr th {\n",
       "        vertical-align: top;\n",
       "    }\n",
       "\n",
       "    .dataframe thead th {\n",
       "        text-align: right;\n",
       "    }\n",
       "</style>\n",
       "<table border=\"1\" class=\"dataframe\">\n",
       "  <thead>\n",
       "    <tr style=\"text-align: right;\">\n",
       "      <th></th>\n",
       "      <th>1</th>\n",
       "    </tr>\n",
       "    <tr>\n",
       "      <th>0</th>\n",
       "      <th></th>\n",
       "    </tr>\n",
       "  </thead>\n",
       "  <tbody>\n",
       "    <tr>\n",
       "      <th>ID</th>\n",
       "      <td>441546821</td>\n",
       "    </tr>\n",
       "    <tr>\n",
       "      <th>ra</th>\n",
       "      <td>197.317468</td>\n",
       "    </tr>\n",
       "    <tr>\n",
       "      <th>dec</th>\n",
       "      <td>-60.30834803</td>\n",
       "    </tr>\n",
       "    <tr>\n",
       "      <th>pmRA</th>\n",
       "      <td>-39.6103</td>\n",
       "    </tr>\n",
       "    <tr>\n",
       "      <th>pmDEC</th>\n",
       "      <td>-20.1315</td>\n",
       "    </tr>\n",
       "    <tr>\n",
       "      <th>...</th>\n",
       "      <td>...</td>\n",
       "    </tr>\n",
       "    <tr>\n",
       "      <th>e_RA_orig</th>\n",
       "      <td>0.028238307</td>\n",
       "    </tr>\n",
       "    <tr>\n",
       "      <th>e_Dec_orig</th>\n",
       "      <td>0.032714115</td>\n",
       "    </tr>\n",
       "    <tr>\n",
       "      <th>raddflag</th>\n",
       "      <td>1</td>\n",
       "    </tr>\n",
       "    <tr>\n",
       "      <th>wdflag</th>\n",
       "      <td>0</td>\n",
       "    </tr>\n",
       "    <tr>\n",
       "      <th>dstArcSec</th>\n",
       "      <td>0</td>\n",
       "    </tr>\n",
       "  </tbody>\n",
       "</table>\n",
       "<p>125 rows × 1 columns</p>\n",
       "</div>"
      ],
      "text/plain": [
       "                       1\n",
       "0                       \n",
       "ID             441546821\n",
       "ra            197.317468\n",
       "dec         -60.30834803\n",
       "pmRA            -39.6103\n",
       "pmDEC           -20.1315\n",
       "...                  ...\n",
       "e_RA_orig    0.028238307\n",
       "e_Dec_orig   0.032714115\n",
       "raddflag               1\n",
       "wdflag                 0\n",
       "dstArcSec              0\n",
       "\n",
       "[125 rows x 1 columns]"
      ]
     },
     "execution_count": 241,
     "metadata": {},
     "output_type": "execute_result"
    }
   ],
   "source": [
    "filepath=\"TICdat.csv\"\n",
    "tic=pd.read_csv(filepath,delimiter=\";\",header=None, index_col=0,skiprows=1)\n",
    "tic"
   ]
  },
  {
   "cell_type": "code",
   "execution_count": 235,
   "id": "e609b4b8-6f56-44ec-b9ce-86cf02775b8e",
   "metadata": {},
   "outputs": [
    {
     "data": {
      "text/plain": [
       "197.317468"
      ]
     },
     "execution_count": 235,
     "metadata": {},
     "output_type": "execute_result"
    }
   ],
   "source": [
    "float(tic.loc[\"ra\"][1])"
   ]
  },
  {
   "cell_type": "code",
   "execution_count": 245,
   "id": "67a1c4a3-d661-4806-8cd1-345378a45b43",
   "metadata": {},
   "outputs": [
    {
     "ename": "NameError",
     "evalue": "name 'init_gaia_data' is not defined",
     "output_type": "error",
     "traceback": [
      "\u001b[1;31m---------------------------------------------------------------------------\u001b[0m",
      "\u001b[1;31mNameError\u001b[0m                                 Traceback (most recent call last)",
      "Cell \u001b[1;32mIn[245], line 1\u001b[0m\n\u001b[1;32m----> 1\u001b[0m init_gaia_data()\n",
      "\u001b[1;31mNameError\u001b[0m: name 'init_gaia_data' is not defined"
     ]
    }
   ],
   "source": [
    "mod=AstrometricModel(\"HD114082\", omegas_prior=\"p&m\",ecc_prior=\"kipping\")\n",
    "init_gaia_data()"
   ]
  },
  {
   "cell_type": "code",
   "execution_count": 243,
   "id": "44336cb3-dd29-4f90-bae0-6fb7217ee5c7",
   "metadata": {},
   "outputs": [
    {
     "ename": "NameError",
     "evalue": "name 'init_gaia_data' is not defined",
     "output_type": "error",
     "traceback": [
      "\u001b[1;31m---------------------------------------------------------------------------\u001b[0m",
      "\u001b[1;31mNameError\u001b[0m                                 Traceback (most recent call last)",
      "Cell \u001b[1;32mIn[243], line 3\u001b[0m\n\u001b[0;32m      1\u001b[0m mod\u001b[38;5;241m=\u001b[39mAstrometricModel(\u001b[38;5;124m\"\u001b[39m\u001b[38;5;124mHD114082\u001b[39m\u001b[38;5;124m\"\u001b[39m, omegas_prior\u001b[38;5;241m=\u001b[39m\u001b[38;5;124m\"\u001b[39m\u001b[38;5;124mp&m\u001b[39m\u001b[38;5;124m\"\u001b[39m,ecc_prior\u001b[38;5;241m=\u001b[39m\u001b[38;5;124m\"\u001b[39m\u001b[38;5;124mkipping\u001b[39m\u001b[38;5;124m\"\u001b[39m,RA_deg\u001b[38;5;241m=\u001b[39mdata[\u001b[38;5;124m\"\u001b[39m\u001b[38;5;124mra\u001b[39m\u001b[38;5;124m\"\u001b[39m][\u001b[38;5;241m0\u001b[39m], DEC_deg\u001b[38;5;241m=\u001b[39mdata[\u001b[38;5;124m\"\u001b[39m\u001b[38;5;124mdec\u001b[39m\u001b[38;5;124m\"\u001b[39m][\u001b[38;5;241m0\u001b[39m]) \n\u001b[0;32m      2\u001b[0m \u001b[38;5;66;03m#mod.init_star(\"HD114082\",data[\"phot_g_mean_mag\"][0],data[\"ra\"][0]) \u001b[39;00m\n\u001b[1;32m----> 3\u001b[0m init_gaia_data()\n",
      "\u001b[1;31mNameError\u001b[0m: name 'init_gaia_data' is not defined"
     ]
    }
   ],
   "source": [
    "mod=AstrometricModel(\"HD114082\", omegas_prior=\"p&m\",ecc_prior=\"kipping\",RA_deg=data[\"ra\"][0], DEC_deg=data[\"dec\"][0]) \n",
    "#mod.init_star(\"HD114082\",data[\"phot_g_mean_mag\"][0],data[\"ra\"][0]) \n",
    "init_gaia_data()\n",
    "    "
   ]
  },
  {
   "cell_type": "code",
   "execution_count": null,
   "id": "133dbeff-2a85-4362-892e-274db9ef5b64",
   "metadata": {},
   "outputs": [],
   "source": []
  },
  {
   "cell_type": "code",
   "execution_count": null,
   "id": "9c999657-181a-45b1-9c94-f91f2e1c7918",
   "metadata": {},
   "outputs": [],
   "source": []
  }
 ],
 "metadata": {
  "kernelspec": {
   "display_name": "Python 3 (ipykernel)",
   "language": "python",
   "name": "python3"
  },
  "language_info": {
   "codemirror_mode": {
    "name": "ipython",
    "version": 3
   },
   "file_extension": ".py",
   "mimetype": "text/x-python",
   "name": "python",
   "nbconvert_exporter": "python",
   "pygments_lexer": "ipython3",
   "version": "3.11.9"
  }
 },
 "nbformat": 4,
 "nbformat_minor": 5
}
